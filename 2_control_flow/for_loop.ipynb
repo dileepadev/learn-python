{
 "cells": [
  {
   "cell_type": "markdown",
   "metadata": {},
   "source": [
    "### 🔖 For Loop\n",
    "\n",
    "🔹 To iterate over a sequence (such as a list, tuple, dictionary, set, or string) and execute a block of code for each element.\n",
    "\n",
    "**_Syntax:_**\n",
    "\n",
    "```python\n",
    "for element in sequence:\n",
    "    print(element)\n",
    "```\n"
   ]
  },
  {
   "cell_type": "code",
   "execution_count": 1,
   "metadata": {},
   "outputs": [
    {
     "name": "stdout",
     "output_type": "stream",
     "text": [
      "apple\n",
      "banana\n",
      "cherry\n"
     ]
    }
   ],
   "source": [
    "fruits = [\"apple\", \"banana\", \"cherry\"]\n",
    "for fruit in fruits:\n",
    "    print(fruit)"
   ]
  },
  {
   "cell_type": "markdown",
   "metadata": {},
   "source": [
    "### 🔖 For Else\n",
    "\n",
    "🔹 The else block will be executed if the loop is not terminated by a break statement.\n"
   ]
  },
  {
   "cell_type": "code",
   "execution_count": 2,
   "metadata": {},
   "outputs": [
    {
     "name": "stdout",
     "output_type": "stream",
     "text": [
      "42 is not in the list.\n"
     ]
    }
   ],
   "source": [
    "target = 42\n",
    "numbers = [5, 8, 12, 33, 17, 28, 39]\n",
    "\n",
    "for number in numbers:\n",
    "    if number == target:\n",
    "        print(f\"{target} is found in the list!\")\n",
    "        break\n",
    "else:\n",
    "    print(f\"{target} is not in the list.\")"
   ]
  }
 ],
 "metadata": {
  "kernelspec": {
   "display_name": ".venv (3.13.5)",
   "language": "python",
   "name": "python3"
  },
  "language_info": {
   "codemirror_mode": {
    "name": "ipython",
    "version": 3
   },
   "file_extension": ".py",
   "mimetype": "text/x-python",
   "name": "python",
   "nbconvert_exporter": "python",
   "pygments_lexer": "ipython3",
   "version": "3.13.5"
  }
 },
 "nbformat": 4,
 "nbformat_minor": 2
}
