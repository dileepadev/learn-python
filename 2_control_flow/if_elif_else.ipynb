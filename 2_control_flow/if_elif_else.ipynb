{
 "cells": [
  {
   "cell_type": "markdown",
   "metadata": {},
   "source": [
    "### 🔖 Elif\n",
    "\n",
    "🔹 Used for multiple alternative execution. It checks the value of z and prints a message based on its value.\n",
    "\n",
    "**_Syntax:_**\n",
    "\n",
    "```python\n",
    "if condition1:\n",
    "    # block of code\n",
    "elif condition2:\n",
    "    # block of code\n",
    "else:\n",
    "    # block of code\n",
    "```\n"
   ]
  },
  {
   "cell_type": "code",
   "execution_count": 1,
   "metadata": {},
   "outputs": [
    {
     "name": "stdout",
     "output_type": "stream",
     "text": [
      "z is positive\n"
     ]
    }
   ],
   "source": [
    "z = 7\n",
    "if z < 0:\n",
    "    print(\"z is negative\")\n",
    "elif z == 0:\n",
    "    print(\"z is zero\")\n",
    "else:\n",
    "    print(\"z is positive\")"
   ]
  }
 ],
 "metadata": {
  "kernelspec": {
   "display_name": ".venv (3.13.5)",
   "language": "python",
   "name": "python3"
  },
  "language_info": {
   "codemirror_mode": {
    "name": "ipython",
    "version": 3
   },
   "file_extension": ".py",
   "mimetype": "text/x-python",
   "name": "python",
   "nbconvert_exporter": "python",
   "pygments_lexer": "ipython3",
   "version": "3.13.5"
  }
 },
 "nbformat": 4,
 "nbformat_minor": 2
}
