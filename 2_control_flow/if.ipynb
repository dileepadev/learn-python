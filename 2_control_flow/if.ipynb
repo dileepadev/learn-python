{
 "cells": [
  {
   "cell_type": "markdown",
   "metadata": {},
   "source": [
    "### 🔖 If\n",
    "\n",
    "🔹 Executes a block of code if the condition is True.\n",
    "\n",
    "**_Syntax:_**\n",
    "\n",
    "```python\n",
    "if condition:\n",
    "    # code block\n",
    "```\n"
   ]
  },
  {
   "cell_type": "code",
   "execution_count": 1,
   "metadata": {},
   "outputs": [
    {
     "name": "stdout",
     "output_type": "stream",
     "text": [
      "x is greater than 5\n"
     ]
    }
   ],
   "source": [
    "x = 10\n",
    "if x > 5:\n",
    "    print(\"x is greater than 5\")"
   ]
  },
  {
   "cell_type": "markdown",
   "metadata": {},
   "source": [
    "### 🔖 Nested If\n",
    "\n",
    "🔹 Executes a block of code if the condition is True, and the condition is inside another if block.\n",
    "\n",
    "**_Syntax:_**\n",
    "\n",
    "```python\n",
    "if condition1:\n",
    "    # code block\n",
    "    if condition2:\n",
    "        # code block\n",
    "```\n"
   ]
  },
  {
   "cell_type": "code",
   "execution_count": 2,
   "metadata": {},
   "outputs": [
    {
     "name": "stdout",
     "output_type": "stream",
     "text": [
      "2 : Team B\n",
      "3 : Team A\n",
      "4 : Team B\n",
      "4 : Team C\n",
      "6 : Team A\n",
      "6 : Team B\n",
      "8 : Team B\n",
      "8 : Team C\n",
      "9 : Team A\n"
     ]
    }
   ],
   "source": [
    "for n in range(1, 10):\n",
    "    if n % 3 == 0:\n",
    "        print(n, \": Team A\")\n",
    "    if n % 2 == 0:\n",
    "        print(n, \": Team B\")\n",
    "    if n % 4 == 0:\n",
    "        print(n, \": Team C\")"
   ]
  }
 ],
 "metadata": {
  "kernelspec": {
   "display_name": ".venv (3.13.5)",
   "language": "python",
   "name": "python3"
  },
  "language_info": {
   "codemirror_mode": {
    "name": "ipython",
    "version": 3
   },
   "file_extension": ".py",
   "mimetype": "text/x-python",
   "name": "python",
   "nbconvert_exporter": "python",
   "pygments_lexer": "ipython3",
   "version": "3.13.5"
  }
 },
 "nbformat": 4,
 "nbformat_minor": 2
}
