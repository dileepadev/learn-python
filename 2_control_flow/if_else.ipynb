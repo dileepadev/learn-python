{
 "cells": [
  {
   "cell_type": "markdown",
   "metadata": {},
   "source": [
    "### 🔖 If...Else\n",
    "\n",
    "🔹 Execute a block of code if a specified condition is true, otherwise execute another block of code.\n",
    "\n",
    "**_Syntax:_**\n",
    "\n",
    "```python\n",
    "if condition:\n",
    "    # block of code\n",
    "else:\n",
    "    # block of code\n",
    "```\n"
   ]
  },
  {
   "cell_type": "code",
   "execution_count": 1,
   "metadata": {},
   "outputs": [
    {
     "name": "stdout",
     "output_type": "stream",
     "text": [
      "y is odd\n"
     ]
    }
   ],
   "source": [
    "y = 3\n",
    "if y % 2 == 0:\n",
    "    print(\"y is even\")\n",
    "else:\n",
    "    print(\"y is odd\")"
   ]
  },
  {
   "cell_type": "markdown",
   "metadata": {},
   "source": [
    "### 🔖 Nested If...Else\n",
    "\n",
    "🔹 Execute a block of code if a specified condition is true, otherwise execute another block of code. If the first condition is false, then check another condition.\n",
    "\n",
    "**_Syntax:_**\n",
    "\n",
    "```python\n",
    "if condition1:\n",
    "    # block of code\n",
    "else:\n",
    "    if condition2:\n",
    "        # block of code\n",
    "    else:\n",
    "        # block of code\n",
    "```\n"
   ]
  },
  {
   "cell_type": "code",
   "execution_count": 2,
   "metadata": {},
   "outputs": [
    {
     "name": "stdout",
     "output_type": "stream",
     "text": [
      "1 : No Team\n",
      "2 : Team B\n",
      "3 : Team A\n",
      "4 : Team B\n",
      "5 : No Team\n",
      "6 : Team A\n",
      "7 : No Team\n",
      "8 : Team B\n",
      "9 : Team A\n"
     ]
    }
   ],
   "source": [
    "for n in range(1, 10):\n",
    "    if n % 3 == 0:\n",
    "        print(n, \": Team A\")\n",
    "    else:\n",
    "        if n % 2 == 0:\n",
    "            print(n, \": Team B\")\n",
    "        else:\n",
    "            if n % 4 == 0:\n",
    "                print(n, \": Team C\")\n",
    "            else:\n",
    "                print(n, \": No Team\")"
   ]
  },
  {
   "cell_type": "markdown",
   "metadata": {},
   "source": [
    "### 🔖 Single Line If...Else\n",
    "\n",
    "🔹 Execute a block of code if a specified condition is true, otherwise execute another block of code.\n",
    "\n",
    "**_Syntax:_**\n",
    "\n",
    "```python\n",
    "if condition else value if condition else value\n",
    "```\n"
   ]
  },
  {
   "cell_type": "code",
   "execution_count": 3,
   "metadata": {},
   "outputs": [
    {
     "name": "stdout",
     "output_type": "stream",
     "text": [
      "4\n",
      "4\n",
      "Team B\n"
     ]
    }
   ],
   "source": [
    "n = 4\n",
    "print(\"Team A\" if n % 3 == 0 else n)\n",
    "\n",
    "teamA = \"Team A\" if n % 3 == 0 else n\n",
    "print(teamA)\n",
    "\n",
    "value = (\n",
    "    \"Team A\"\n",
    "    if n % 3 == 0\n",
    "    else \"Team B\" if n % 2 == 0 else \"Team C\" if n % 4 == 0 else \"No Team\"\n",
    ")\n",
    "print(value)"
   ]
  }
 ],
 "metadata": {
  "kernelspec": {
   "display_name": ".venv (3.13.5)",
   "language": "python",
   "name": "python3"
  },
  "language_info": {
   "codemirror_mode": {
    "name": "ipython",
    "version": 3
   },
   "file_extension": ".py",
   "mimetype": "text/x-python",
   "name": "python",
   "nbconvert_exporter": "python",
   "pygments_lexer": "ipython3",
   "version": "3.13.5"
  }
 },
 "nbformat": 4,
 "nbformat_minor": 2
}
