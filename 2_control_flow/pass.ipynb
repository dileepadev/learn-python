{
 "cells": [
  {
   "cell_type": "markdown",
   "metadata": {},
   "source": [
    "### 🔖 Pass\n",
    "\n",
    "🔹 Does nothing; it's a null statement used as a placeholder.\n",
    "\n",
    "**_Syntax:_**\n",
    "\n",
    "```python\n",
    "pass\n",
    "```\n"
   ]
  },
  {
   "cell_type": "code",
   "execution_count": 1,
   "metadata": {},
   "outputs": [
    {
     "name": "stdout",
     "output_type": "stream",
     "text": [
      "1\n",
      "3\n",
      "5\n",
      "7\n",
      "9\n"
     ]
    }
   ],
   "source": [
    "for i in range(10):\n",
    "    if i % 2 == 0:\n",
    "        pass\n",
    "    else:\n",
    "        print(i)\n",
    "# Output: 1, 3, 5, 7, 9"
   ]
  },
  {
   "cell_type": "markdown",
   "metadata": {},
   "source": [
    "### 🔖 Pass in a different context\n"
   ]
  },
  {
   "cell_type": "code",
   "execution_count": 2,
   "metadata": {},
   "outputs": [
    {
     "name": "stdout",
     "output_type": "stream",
     "text": [
      "0\n",
      "1\n",
      "2\n",
      "3\n",
      "4\n",
      "None\n",
      "<__main__.SomeClass object at 0x0000022E7F815010>\n"
     ]
    }
   ],
   "source": [
    "## Loop\n",
    "\n",
    "for i in range(5):\n",
    "    if i == 3:\n",
    "        pass  # Placeholder, do nothing for now\n",
    "    print(i)\n",
    "# Output: 0, 1, 2, 3, 4\n",
    "\n",
    "\n",
    "## Function\n",
    "def some_function():\n",
    "    pass\n",
    "\n",
    "\n",
    "print(some_function())  # Output: None\n",
    "\n",
    "## Class\n",
    "\n",
    "\n",
    "class SomeClass:\n",
    "    pass\n",
    "\n",
    "\n",
    "some_instance = SomeClass()\n",
    "print(some_instance)  # Output: <__main__.SomeClass object at 0x000001E1D5E6A9A0>"
   ]
  }
 ],
 "metadata": {
  "kernelspec": {
   "display_name": ".venv (3.13.5)",
   "language": "python",
   "name": "python3"
  },
  "language_info": {
   "codemirror_mode": {
    "name": "ipython",
    "version": 3
   },
   "file_extension": ".py",
   "mimetype": "text/x-python",
   "name": "python",
   "nbconvert_exporter": "python",
   "pygments_lexer": "ipython3",
   "version": "3.13.5"
  }
 },
 "nbformat": 4,
 "nbformat_minor": 2
}
