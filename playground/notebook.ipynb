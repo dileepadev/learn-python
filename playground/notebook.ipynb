{
 "cells": [
  {
   "cell_type": "markdown",
   "id": "a9a958d8",
   "metadata": {},
   "source": [
    "# Python Playground\n",
    "\n",
    "A space to quickly experiment with Python code snippets and test ideas."
   ]
  },
  {
   "cell_type": "code",
   "execution_count": 1,
   "id": "2709e5d5",
   "metadata": {},
   "outputs": [
    {
     "name": "stdout",
     "output_type": "stream",
     "text": [
      "Hello, World!\n"
     ]
    }
   ],
   "source": [
    "# hello_world.py\n",
    "\n",
    "print(\"Hello, World!\")"
   ]
  }
 ],
 "metadata": {
  "kernelspec": {
   "display_name": ".venv (3.13.5)",
   "language": "python",
   "name": "python3"
  },
  "language_info": {
   "codemirror_mode": {
    "name": "ipython",
    "version": 3
   },
   "file_extension": ".py",
   "mimetype": "text/x-python",
   "name": "python",
   "nbconvert_exporter": "python",
   "pygments_lexer": "ipython3",
   "version": "3.13.5"
  }
 },
 "nbformat": 4,
 "nbformat_minor": 5
}
