{
 "cells": [
  {
   "cell_type": "markdown",
   "id": "a874ca55",
   "metadata": {},
   "source": [
    "# Python Print\n",
    "\n",
    "Different Ways to Print in Python\n"
   ]
  },
  {
   "cell_type": "code",
   "execution_count": 6,
   "id": "555ab458",
   "metadata": {},
   "outputs": [
    {
     "name": "stdout",
     "output_type": "stream",
     "text": [
      "Hello, this is a simple message!\n"
     ]
    }
   ],
   "source": [
    "# 1. Printing a simple message\n",
    "print(\"Hello, this is a simple message!\")"
   ]
  },
  {
   "cell_type": "code",
   "execution_count": 7,
   "id": "c2ecd210",
   "metadata": {},
   "outputs": [
    {
     "name": "stdout",
     "output_type": "stream",
     "text": [
      "10\n"
     ]
    }
   ],
   "source": [
    "# 2. Printing the result of a calculation\n",
    "print(4 + 6)"
   ]
  },
  {
   "cell_type": "code",
   "execution_count": 8,
   "id": "787b21fc",
   "metadata": {},
   "outputs": [
    {
     "name": "stdout",
     "output_type": "stream",
     "text": [
      "Calculations: 10 -2 24 0.6666666666666666\n"
     ]
    }
   ],
   "source": [
    "# 3. Printing multiple values or calculations in one line\n",
    "print(\"Calculations:\", 4+6, 4-6, 4*6, 4/6)"
   ]
  },
  {
   "cell_type": "code",
   "execution_count": 9,
   "id": "422916c9",
   "metadata": {},
   "outputs": [
    {
     "name": "stdout",
     "output_type": "stream",
     "text": [
      "Calculations with labels: | 4+6 = 10 | 4-6 = -2 | 4*6 = 24 | 4/6 = 0.6666666666666666 |\n"
     ]
    }
   ],
   "source": [
    "# 4. Printing calculations with labels for clarity\n",
    "print(\"Calculations with labels:\",\n",
    "      \"| 4+6 =\", 4+6,\n",
    "      \"| 4-6 =\", 4-6,\n",
    "      \"| 4*6 =\", 4*6,\n",
    "      \"| 4/6 =\", 4/6, \"|\")"
   ]
  }
 ],
 "metadata": {
  "kernelspec": {
   "display_name": ".venv (3.13.5)",
   "language": "python",
   "name": "python3"
  },
  "language_info": {
   "codemirror_mode": {
    "name": "ipython",
    "version": 3
   },
   "file_extension": ".py",
   "mimetype": "text/x-python",
   "name": "python",
   "nbconvert_exporter": "python",
   "pygments_lexer": "ipython3",
   "version": "3.13.5"
  }
 },
 "nbformat": 4,
 "nbformat_minor": 5
}
