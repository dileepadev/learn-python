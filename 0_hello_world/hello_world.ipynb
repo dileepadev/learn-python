{
 "cells": [
  {
   "cell_type": "markdown",
   "id": "a874ca55",
   "metadata": {},
   "source": [
    "# Hello, World! in Python\n",
    "\n",
    "This notebook demonstrates a simple Python program that prints `Hello, World!`.\n"
   ]
  },
  {
   "cell_type": "code",
   "execution_count": 1,
   "id": "555ab458",
   "metadata": {},
   "outputs": [
    {
     "name": "stdout",
     "output_type": "stream",
     "text": [
      "Hello, World!\n"
     ]
    }
   ],
   "source": [
    "# Print Hello, World!\n",
    "print(\"Hello, World!\")"
   ]
  }
 ],
 "metadata": {
  "kernelspec": {
   "display_name": ".venv (3.13.5)",
   "language": "python",
   "name": "python3"
  },
  "language_info": {
   "codemirror_mode": {
    "name": "ipython",
    "version": 3
   },
   "file_extension": ".py",
   "mimetype": "text/x-python",
   "name": "python",
   "nbconvert_exporter": "python",
   "pygments_lexer": "ipython3",
   "version": "3.13.5"
  }
 },
 "nbformat": 4,
 "nbformat_minor": 5
}
