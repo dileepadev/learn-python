{
 "cells": [
  {
   "cell_type": "markdown",
   "id": "a874ca55",
   "metadata": {},
   "source": [
    "# Comments\n",
    "\n",
    "Using Comments in Python"
   ]
  },
  {
   "cell_type": "code",
   "execution_count": 1,
   "id": "555ab458",
   "metadata": {},
   "outputs": [
    {
     "name": "stdout",
     "output_type": "stream",
     "text": [
      "Hello, world!\n"
     ]
    }
   ],
   "source": [
    "# 1. This is a single-line comment\n",
    "# Comments are ignored by Python and are used to explain code\n",
    "print(\"Hello, world!\")  # This prints a message to the screen"
   ]
  },
  {
   "cell_type": "code",
   "execution_count": 2,
   "id": "c2ecd210",
   "metadata": {},
   "outputs": [],
   "source": [
    "\n",
    "# 2. Using comments to explain calculations\n",
    "x = 10  # Assign 10 to variable x\n",
    "y = 5   # Assign 5 to variable y"
   ]
  },
  {
   "cell_type": "code",
   "execution_count": 3,
   "id": "787b21fc",
   "metadata": {},
   "outputs": [],
   "source": [
    "# Perform arithmetic operations\n",
    "sum_result = x + y       # Addition\n",
    "diff_result = x - y      # Subtraction\n",
    "prod_result = x * y      # Multiplication\n",
    "div_result = x / y       # Division"
   ]
  },
  {
   "cell_type": "code",
   "execution_count": 4,
   "id": "422916c9",
   "metadata": {},
   "outputs": [
    {
     "name": "stdout",
     "output_type": "stream",
     "text": [
      "Sum: 15\n",
      "Difference: 5\n",
      "Product: 50\n",
      "Division: 2.0\n"
     ]
    }
   ],
   "source": [
    "# 3. Print the results\n",
    "print(\"Sum:\", sum_result)         # Shows the sum\n",
    "print(\"Difference:\", diff_result) # Shows the difference\n",
    "print(\"Product:\", prod_result)    # Shows the product\n",
    "print(\"Division:\", div_result)    # Shows the division"
   ]
  },
  {
   "cell_type": "code",
   "execution_count": 5,
   "id": "f5f67b5c",
   "metadata": {},
   "outputs": [
    {
     "name": "stdout",
     "output_type": "stream",
     "text": [
      "This code demonstrates how to use comments.\n"
     ]
    }
   ],
   "source": [
    "# 4. Multi-line comments using triple quotes\n",
    "\"\"\"\n",
    "This is a multi-line comment.\n",
    "It can be used to explain longer pieces of code.\n",
    "Python ignores everything inside triple quotes.\n",
    "\"\"\"\n",
    "print(\"This code demonstrates how to use comments.\")"
   ]
  }
 ],
 "metadata": {
  "kernelspec": {
   "display_name": ".venv (3.13.5)",
   "language": "python",
   "name": "python3"
  },
  "language_info": {
   "codemirror_mode": {
    "name": "ipython",
    "version": 3
   },
   "file_extension": ".py",
   "mimetype": "text/x-python",
   "name": "python",
   "nbconvert_exporter": "python",
   "pygments_lexer": "ipython3",
   "version": "3.13.5"
  }
 },
 "nbformat": 4,
 "nbformat_minor": 5
}
