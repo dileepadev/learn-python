{
 "cells": [
  {
   "cell_type": "markdown",
   "id": "a874ca55",
   "metadata": {},
   "source": [
    "# Variables\n",
    "\n",
    "Using Variables in Python"
   ]
  },
  {
   "cell_type": "code",
   "execution_count": 1,
   "id": "555ab458",
   "metadata": {},
   "outputs": [],
   "source": [
    "# 1. Assigning values to variables\n",
    "x = 10\n",
    "y = 5\n",
    "name = \"Alice\""
   ]
  },
  {
   "cell_type": "code",
   "execution_count": 2,
   "id": "c2ecd210",
   "metadata": {},
   "outputs": [
    {
     "name": "stdout",
     "output_type": "stream",
     "text": [
      "Value of x: 10\n",
      "Value of y: 5\n",
      "Name: Alice\n"
     ]
    }
   ],
   "source": [
    "# 2. Printing variable values\n",
    "print(\"Value of x:\", x)\n",
    "print(\"Value of y:\", y)\n",
    "print(\"Name:\", name)"
   ]
  },
  {
   "cell_type": "code",
   "execution_count": 3,
   "id": "787b21fc",
   "metadata": {},
   "outputs": [],
   "source": [
    "# 3. Using variables in calculations\n",
    "sum_result = x + y\n",
    "diff_result = x - y\n",
    "prod_result = x * y\n",
    "div_result = x / y"
   ]
  },
  {
   "cell_type": "code",
   "execution_count": 4,
   "id": "422916c9",
   "metadata": {},
   "outputs": [
    {
     "name": "stdout",
     "output_type": "stream",
     "text": [
      "Sum: 15\n",
      "Difference: 5\n",
      "Product: 50\n",
      "Division: 2.0\n"
     ]
    }
   ],
   "source": [
    "# 4. Printing calculation results\n",
    "print(\"Sum:\", sum_result)\n",
    "print(\"Difference:\", diff_result)\n",
    "print(\"Product:\", prod_result)\n",
    "print(\"Division:\", div_result)"
   ]
  },
  {
   "cell_type": "code",
   "execution_count": 5,
   "id": "f5f67b5c",
   "metadata": {},
   "outputs": [
    {
     "name": "stdout",
     "output_type": "stream",
     "text": [
      "Hello, Alice! The sum of 10 and 5 is 15\n"
     ]
    }
   ],
   "source": [
    "# 5. Using variables in text with concatenation\n",
    "print(\"Hello, \" + name + \"! The sum of\", x, \"and\", y, \"is\", sum_result)"
   ]
  },
  {
   "cell_type": "code",
   "execution_count": 6,
   "id": "805d5de9",
   "metadata": {},
   "outputs": [
    {
     "name": "stdout",
     "output_type": "stream",
     "text": [
      "Hello, Alice! The calculations are: 10+5=15, 10-5=5, 10*5=50, 10/5=2.00\n"
     ]
    }
   ],
   "source": [
    "# 6. Using variables in text with formatted strings (f-strings)\n",
    "print(f\"Hello, {name}! The calculations are: {x}+{y}={sum_result}, {x}-{y}={diff_result}, {x}*{y}={prod_result}, {x}/{y}={div_result:.2f}\")"
   ]
  }
 ],
 "metadata": {
  "kernelspec": {
   "display_name": ".venv (3.13.5)",
   "language": "python",
   "name": "python3"
  },
  "language_info": {
   "codemirror_mode": {
    "name": "ipython",
    "version": 3
   },
   "file_extension": ".py",
   "mimetype": "text/x-python",
   "name": "python",
   "nbconvert_exporter": "python",
   "pygments_lexer": "ipython3",
   "version": "3.13.5"
  }
 },
 "nbformat": 4,
 "nbformat_minor": 5
}
