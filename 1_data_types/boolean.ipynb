{
 "cells": [
  {
   "cell_type": "markdown",
   "metadata": {},
   "source": [
    "### 🔖 Boolean\n",
    "\n",
    "🔹 Represents True or False logical values.\n",
    "\n",
    "**_Syntax:_**\n",
    "\n",
    "```python\n",
    "variable = [True | False]\n",
    "```"
   ]
  },
  {
   "cell_type": "code",
   "execution_count": 13,
   "metadata": {},
   "outputs": [
    {
     "name": "stdout",
     "output_type": "stream",
     "text": [
      "is_sunny: True\n",
      "is_sunny: <class 'bool'>\n"
     ]
    }
   ],
   "source": [
    "is_sunny = True\n",
    "is_raining = False\n",
    "\n",
    "print(\"is_sunny:\", is_sunny)\n",
    "print(\"is_sunny:\", type(is_sunny))"
   ]
  },
  {
   "cell_type": "markdown",
   "metadata": {},
   "source": [
    "### 🔖 Boolean Check"
   ]
  },
  {
   "cell_type": "code",
   "execution_count": 14,
   "metadata": {},
   "outputs": [
    {
     "name": "stdout",
     "output_type": "stream",
     "text": [
      "bool of 0: False\n",
      "bool of 1: True\n",
      "bool of -1: True\n",
      "bool of '': False\n",
      "bool of 'abc': True\n",
      "myList has elements\n",
      "Package is not ready\n"
     ]
    }
   ],
   "source": [
    "print(\"bool of 0:\", bool(0))\n",
    "print(\"bool of 1:\", bool(1))\n",
    "print(\"bool of -1:\", bool(-1))\n",
    "print(\"bool of '':\", bool(''))\n",
    "print(\"bool of 'abc':\", bool('abc'))\n",
    "myList = [1, 2, 3, 4]\n",
    "if myList:\n",
    "    print(\"myList has elements\")\n",
    "else:\n",
    "    print(\"myList is empty\")\n",
    "\n",
    "isPackageWrapped = True\n",
    "transportArrived = False\n",
    "\n",
    "if isPackageWrapped and transportArrived:\n",
    "    print(\"Package is ready\")\n",
    "else:\n",
    "    print(\"Package is not ready\")"
   ]
  }
 ],
 "metadata": {
  "kernelspec": {
   "display_name": ".venv (3.13.5)",
   "language": "python",
   "name": "python3"
  },
  "language_info": {
   "codemirror_mode": {
    "name": "ipython",
    "version": 3
   },
   "file_extension": ".py",
   "mimetype": "text/x-python",
   "name": "python",
   "nbconvert_exporter": "python",
   "pygments_lexer": "ipython3",
   "version": "3.13.5"
  }
 },
 "nbformat": 4,
 "nbformat_minor": 2
}
