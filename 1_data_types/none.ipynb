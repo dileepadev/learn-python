{
 "cells": [
  {
   "cell_type": "markdown",
   "metadata": {},
   "source": [
    "### 🔖 None\n",
    "\n",
    "🔹 Used to represent the absence of a value, often used as a default or initial value\n",
    "\n",
    "**_Syntax:_**\n",
    "\n",
    "```python\n",
    "None\n",
    "```"
   ]
  },
  {
   "cell_type": "code",
   "execution_count": 2,
   "metadata": {},
   "outputs": [
    {
     "name": "stdout",
     "output_type": "stream",
     "text": [
      "result: None\n",
      "result: <class 'NoneType'>\n"
     ]
    }
   ],
   "source": [
    "result = None\n",
    "\n",
    "print(\"result:\", result)\n",
    "print(\"result:\", type(result))"
   ]
  }
 ],
 "metadata": {
  "kernelspec": {
   "display_name": ".venv (3.13.5)",
   "language": "python",
   "name": "python3"
  },
  "language_info": {
   "codemirror_mode": {
    "name": "ipython",
    "version": 3
   },
   "file_extension": ".py",
   "mimetype": "text/x-python",
   "name": "python",
   "nbconvert_exporter": "python",
   "pygments_lexer": "ipython3",
   "version": "3.13.5"
  }
 },
 "nbformat": 4,
 "nbformat_minor": 2
}
