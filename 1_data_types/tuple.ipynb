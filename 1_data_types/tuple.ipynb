{
 "cells": [
  {
   "cell_type": "markdown",
   "metadata": {},
   "source": [
    "### 🔖 Tuple\n",
    "\n",
    "🔹 Ordered, immutable collection of items, which can be of different types and allows duplicate elements."
   ]
  },
  {
   "cell_type": "code",
   "execution_count": 1,
   "metadata": {},
   "outputs": [
    {
     "name": "stdout",
     "output_type": "stream",
     "text": [
      "coordinates: (10, 20)\n",
      "coordinates: <class 'tuple'>\n"
     ]
    }
   ],
   "source": [
    "coordinates = (10, 20)\n",
    "colors = (\"red\", \"green\", \"blue\")\n",
    "\n",
    "print(\"coordinates:\", coordinates)\n",
    "print(\"coordinates:\", type(coordinates))"
   ]
  },
  {
   "cell_type": "markdown",
   "metadata": {},
   "source": [
    "### 🔖 Check Element in Tuple"
   ]
  },
  {
   "cell_type": "code",
   "execution_count": 2,
   "metadata": {},
   "outputs": [
    {
     "name": "stdout",
     "output_type": "stream",
     "text": [
      "ages: (10, 20, 30, 40, 50)\n",
      "ages[0]: 10\n"
     ]
    }
   ],
   "source": [
    "ages = (10, 20, 30, 40, 50)\n",
    "print(\"ages:\", ages)\n",
    "print(\"ages[0]:\", ages[0])"
   ]
  },
  {
   "cell_type": "markdown",
   "metadata": {},
   "source": [
    "### 🔖 Tuple in Function"
   ]
  },
  {
   "cell_type": "code",
   "execution_count": 3,
   "metadata": {},
   "outputs": [
    {
     "name": "stdout",
     "output_type": "stream",
     "text": [
      "(10, 20, 30)\n",
      "<class 'tuple'>\n"
     ]
    }
   ],
   "source": [
    "def sendValues():\n",
    "    return 10, 20, 30\n",
    "\n",
    "\n",
    "print(sendValues())\n",
    "print(type(sendValues()))"
   ]
  },
  {
   "cell_type": "markdown",
   "metadata": {},
   "source": [
    "### 🔖 Tuple Unpacking"
   ]
  },
  {
   "cell_type": "code",
   "execution_count": 4,
   "metadata": {},
   "outputs": [
    {
     "name": "stdout",
     "output_type": "stream",
     "text": [
      "years: (10, 20, 30, 40, 50)\n",
      "a: 10\n",
      "b: 20\n",
      "c: 30\n"
     ]
    }
   ],
   "source": [
    "years = (10, 20, 30, 40, 50)\n",
    "print(\"years:\", years)\n",
    "# unpacking\n",
    "a, b, c, d, e = years\n",
    "print(\"a:\", a)\n",
    "print(\"b:\", b)\n",
    "print(\"c:\", c)"
   ]
  }
 ],
 "metadata": {
  "kernelspec": {
   "display_name": ".venv (3.13.5)",
   "language": "python",
   "name": "python3"
  },
  "language_info": {
   "codemirror_mode": {
    "name": "ipython",
    "version": 3
   },
   "file_extension": ".py",
   "mimetype": "text/x-python",
   "name": "python",
   "nbconvert_exporter": "python",
   "pygments_lexer": "ipython3",
   "version": "3.13.5"
  }
 },
 "nbformat": 4,
 "nbformat_minor": 2
}
