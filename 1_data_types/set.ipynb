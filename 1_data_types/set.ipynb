{
 "cells": [
  {
   "cell_type": "markdown",
   "metadata": {},
   "source": [
    "### 🔖 Set\n",
    "\n",
    "🔹 Unordered, mutable collection of unique items, which can be of different types. Don't allows duplications.\n",
    "\n",
    "**_Syntax:_**\n",
    "\n",
    "```python\n",
    "set_name = {item1, item2, item3, ...}\n",
    "```"
   ]
  },
  {
   "cell_type": "code",
   "execution_count": 7,
   "metadata": {},
   "outputs": [
    {
     "name": "stdout",
     "output_type": "stream",
     "text": [
      "unique_numbers: {1, 2, 3, 4, 5}\n",
      "unique_numbers: <class 'set'>\n",
      "measurements: {1, 2, 3, 4, 7}\n"
     ]
    }
   ],
   "source": [
    "unique_numbers = {1, 2, 3, 4, 5}\n",
    "vowels = {\"a\", \"e\", \"i\", \"o\", \"u\"}\n",
    "measurements = {1, 2, 3, 4, 7, 3, 2}\n",
    "\n",
    "print(\"unique_numbers:\", unique_numbers)\n",
    "print(\"unique_numbers:\", type(unique_numbers))\n",
    "print(\"measurements:\", measurements)"
   ]
  },
  {
   "cell_type": "markdown",
   "metadata": {},
   "source": [
    "### 🔖 Convert the List to a Set"
   ]
  },
  {
   "cell_type": "code",
   "execution_count": 8,
   "metadata": {},
   "outputs": [
    {
     "name": "stdout",
     "output_type": "stream",
     "text": [
      "numbers: [1, 2, 3, 4, 5, 2, 4, 2, 2]\n",
      "numbers: {1, 2, 3, 4, 5}\n"
     ]
    }
   ],
   "source": [
    "numbers = [1, 2, 3, 4, 5, 2, 4, 2, 2]\n",
    "print(\"numbers:\", numbers)\n",
    "\n",
    "numbers = set(numbers)\n",
    "print(\"numbers:\", numbers)"
   ]
  },
  {
   "cell_type": "markdown",
   "metadata": {},
   "source": [
    "### 🔖 Check Element in Set"
   ]
  },
  {
   "cell_type": "code",
   "execution_count": 9,
   "metadata": {},
   "outputs": [
    {
     "name": "stdout",
     "output_type": "stream",
     "text": [
      "numbers: {1, 2, 3, 4, 5}\n",
      "2 in numbers: True\n",
      "6 in numbers: False\n",
      "1\n",
      "2\n",
      "3\n",
      "4\n",
      "5\n"
     ]
    }
   ],
   "source": [
    "numbers = {1, 2, 3, 4, 5, 2, 4, 2, 2}\n",
    "print(\"numbers:\", numbers)\n",
    "print(\"2 in numbers:\", 2 in numbers)\n",
    "print(\"6 in numbers:\", 6 in numbers)\n",
    "\n",
    "while len(numbers) > 0:\n",
    "    print(numbers.pop())"
   ]
  },
  {
   "cell_type": "markdown",
   "metadata": {},
   "source": [
    "### 🔖 Add Element to Set"
   ]
  },
  {
   "cell_type": "code",
   "execution_count": 10,
   "metadata": {},
   "outputs": [
    {
     "name": "stdout",
     "output_type": "stream",
     "text": [
      "ages before: {19, 22, 24, 25, 26}\n",
      "ages after: {19, 20, 22, 24, 25, 26}\n"
     ]
    }
   ],
   "source": [
    "ages = {22, 19, 24, 25, 26, 24, 25, 24}\n",
    "print(\"ages before:\", ages)\n",
    "ages.add(20)\n",
    "print(\"ages after:\", ages)"
   ]
  },
  {
   "cell_type": "markdown",
   "metadata": {},
   "source": [
    "### 🔖 Remove an Element from a Set"
   ]
  },
  {
   "cell_type": "code",
   "execution_count": 11,
   "metadata": {},
   "outputs": [
    {
     "name": "stdout",
     "output_type": "stream",
     "text": [
      "ages before: {19, 22, 24, 25, 26}\n",
      "ages after: {19, 22, 25, 26}\n",
      "ages after: {19, 22, 26}\n"
     ]
    }
   ],
   "source": [
    "ages = {22, 19, 24, 25, 26, 24, 25, 24}\n",
    "print(\"ages before:\", ages)\n",
    "ages.remove(24)\n",
    "print(\"ages after:\", ages)\n",
    "ages.discard(25)\n",
    "print(\"ages after:\", ages)"
   ]
  }
 ],
 "metadata": {
  "kernelspec": {
   "display_name": ".venv (3.13.5)",
   "language": "python",
   "name": "python3"
  },
  "language_info": {
   "codemirror_mode": {
    "name": "ipython",
    "version": 3
   },
   "file_extension": ".py",
   "mimetype": "text/x-python",
   "name": "python",
   "nbconvert_exporter": "python",
   "pygments_lexer": "ipython3",
   "version": "3.13.5"
  }
 },
 "nbformat": 4,
 "nbformat_minor": 2
}
