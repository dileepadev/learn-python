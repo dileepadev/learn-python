{
 "cells": [
  {
   "cell_type": "markdown",
   "metadata": {},
   "source": [
    "### 🔖 String\n",
    "\n",
    "🔹 Sequence of characters enclosed in single, double, or triple quotes.\n",
    "\n",
    "**Syntax:**\n",
    "\n",
    "```python\n",
    "singleQuotedString = 'value'\n",
    "doubleQuotedString = \"value\"\n",
    "multilineString = \"\"\"value\n",
    "value\"\"\"\n",
    "```"
   ]
  },
  {
   "cell_type": "code",
   "execution_count": 1,
   "metadata": {},
   "outputs": [
    {
     "name": "stdout",
     "output_type": "stream",
     "text": [
      "name: John Doe\n",
      "greeting: Hello, World!\n",
      "message:  Welcome to the world of \n",
      "Python programming language. \n",
      "name: <class 'str'>\n"
     ]
    }
   ],
   "source": [
    "name = 'John Doe'\n",
    "greeting = \"Hello, World!\"\n",
    "message = \"\"\" Welcome to the world of \n",
    "Python programming language. \"\"\"\n",
    "\n",
    "print(\"name:\", name)\n",
    "print(\"greeting:\", greeting)\n",
    "print(\"message:\", message)\n",
    "\n",
    "print(\"name:\", type(name))"
   ]
  },
  {
   "cell_type": "markdown",
   "metadata": {},
   "source": [
    "### 🔖 Convert to String"
   ]
  },
  {
   "cell_type": "code",
   "execution_count": 2,
   "metadata": {},
   "outputs": [
    {
     "name": "stdout",
     "output_type": "stream",
     "text": [
      "String of x+y: 30\n"
     ]
    }
   ],
   "source": [
    "x = 10\n",
    "y = 20\n",
    "print(\"String of x+y:\", str(x + y))"
   ]
  },
  {
   "cell_type": "markdown",
   "metadata": {},
   "source": [
    "### 🔖 String Slice"
   ]
  },
  {
   "cell_type": "code",
   "execution_count": 3,
   "metadata": {},
   "outputs": [
    {
     "name": "stdout",
     "output_type": "stream",
     "text": [
      "myString: Hello, World!\n",
      "myString[0]: H\n",
      "myString[0:4]: Hell\n",
      "myString[:4]: Hell\n",
      "myString[7:]: World!\n",
      "myString[-1]: !\n",
      "myString[-5:]: orld!\n",
      "myString[:-7]: Hello,\n",
      "myString[0:5:2]: Hlo\n",
      "myString[::-1]: !dlroW ,olleH\n"
     ]
    }
   ],
   "source": [
    "myString = \"Hello, World!\"\n",
    "print(\"myString:\", myString)\n",
    "print(\"myString[0]:\", myString[0])\n",
    "print(\"myString[0:4]:\", myString[0:4])\n",
    "print(\"myString[:4]:\", myString[:4])\n",
    "print(\"myString[7:]:\", myString[7:])\n",
    "print(\"myString[-1]:\", myString[-1])\n",
    "print(\"myString[-5:]:\", myString[-5:])\n",
    "print(\"myString[:-7]:\", myString[:-7])\n",
    "print(\"myString[0:5:2]:\", myString[0:5:2])\n",
    "print(\"myString[::-1]:\", myString[::-1])"
   ]
  },
  {
   "cell_type": "markdown",
   "metadata": {},
   "source": [
    "### 🔖 String Format"
   ]
  },
  {
   "cell_type": "code",
   "execution_count": 4,
   "metadata": {},
   "outputs": [
    {
     "name": "stdout",
     "output_type": "stream",
     "text": [
      "My age is 27 years old.\n",
      "My age is 27 years old.\n",
      "Hello, World!\n",
      "Hello, World! The number is 42.\n",
      "Hello, World! The number is 42.\n",
      "Hello, World! The number is 42.\n",
      "Hello, World! The number is 42.00.\n"
     ]
    }
   ],
   "source": [
    "print(\"My age is \" + str(27) + \" years old.\")\n",
    "print(f\"My age is {27} years old.\")\n",
    "print(\"Hello, %s!\" % \"World\")\n",
    "print(\"Hello, %s! The number is %d.\" % (\"World\", 42))\n",
    "print(\"Hello, {0}! The number is {1}.\".format(\"World\", 42))\n",
    "print(\"Hello, {name}! The number is {num}.\".format(name=\"World\", num=42))\n",
    "print(\"Hello, {0}! The number is {1:.2f}.\".format(\"World\", 42))"
   ]
  },
  {
   "cell_type": "markdown",
   "metadata": {},
   "source": [
    "### 🔖 String Split"
   ]
  },
  {
   "cell_type": "code",
   "execution_count": 5,
   "metadata": {},
   "outputs": [
    {
     "name": "stdout",
     "output_type": "stream",
     "text": [
      "['Hey!.', \"I'm\", 'Dileepa', 'Bandara.', \"It's\", 'nice', 'to', 'meet', 'you.']\n",
      "['Hey!', \" I'm Dileepa Bandara\", \" It's nice to meet you\", '']\n"
     ]
    }
   ],
   "source": [
    "message = \"Hey!. I'm Dileepa Bandara. It's nice to meet you.\"\n",
    "\n",
    "print(message.split())\n",
    "print(message.split(\".\"))"
   ]
  },
  {
   "cell_type": "markdown",
   "metadata": {},
   "source": [
    "### 🔖 String Replace"
   ]
  },
  {
   "cell_type": "code",
   "execution_count": 6,
   "metadata": {},
   "outputs": [
    {
     "name": "stdout",
     "output_type": "stream",
     "text": [
      "Hello, I'm a Software Engineer\n",
      "Hello, I'm an AI Engineer\n"
     ]
    }
   ],
   "source": [
    "message = \"Hello, I'm a Software Engineer\"\n",
    "print(message)\n",
    "message = message.replace(\"a Software\", \"an AI\")\n",
    "print(message)"
   ]
  },
  {
   "cell_type": "markdown",
   "metadata": {},
   "source": [
    "### 🔖 String lower() and upper"
   ]
  },
  {
   "cell_type": "code",
   "execution_count": 7,
   "metadata": {},
   "outputs": [
    {
     "name": "stdout",
     "output_type": "stream",
     "text": [
      "Dileepa\n",
      "lower():  dileepa\n",
      "upper():  DILEEPA\n"
     ]
    }
   ],
   "source": [
    "name = \"Dileepa\"\n",
    "print(name)\n",
    "print(\"lower(): \", name.lower())\n",
    "print(\"upper(): \", name.upper())"
   ]
  }
 ],
 "metadata": {
  "kernelspec": {
   "display_name": ".venv (3.13.5)",
   "language": "python",
   "name": "python3"
  },
  "language_info": {
   "codemirror_mode": {
    "name": "ipython",
    "version": 3
   },
   "file_extension": ".py",
   "mimetype": "text/x-python",
   "name": "python",
   "nbconvert_exporter": "python",
   "pygments_lexer": "ipython3",
   "version": "3.13.5"
  }
 },
 "nbformat": 4,
 "nbformat_minor": 2
}
