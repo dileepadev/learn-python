{
 "cells": [
  {
   "cell_type": "markdown",
   "metadata": {},
   "source": [
    "### 🔖 Dictionary\n",
    "\n",
    "🔹 Unordered, mutable collection of key-value pairs, where each key is unique and used to retrieve the corresponding value.\n",
    "\n",
    "**_Syntax:_**\n",
    "\n",
    "```python\n",
    "dictionary = {\n",
    "    key1: value1,\n",
    "    key2: value2,\n",
    "    key3: value3,\n",
    "    ...\n",
    "}\n",
    "```"
   ]
  },
  {
   "cell_type": "code",
   "execution_count": 13,
   "metadata": {},
   "outputs": [
    {
     "name": "stdout",
     "output_type": "stream",
     "text": [
      "person: {'name': 'John', 'age': 30, 'city': 'New York'}\n",
      "person: <class 'dict'>\n"
     ]
    }
   ],
   "source": [
    "person = {\"name\": \"John\", \"age\": 30, \"city\": \"New York\"}\n",
    "\n",
    "print(\"person:\", person)\n",
    "print(\"person:\", type(person))"
   ]
  },
  {
   "cell_type": "markdown",
   "metadata": {},
   "source": [
    "### 🔖 Operations"
   ]
  },
  {
   "cell_type": "code",
   "execution_count": 14,
   "metadata": {},
   "outputs": [
    {
     "name": "stdout",
     "output_type": "stream",
     "text": [
      "laptop: {'brand': 'Asus', 'model': 'Zenbook', 'year': 2018}\n",
      "laptop brand: Asus\n",
      "laptop brand: Asus\n",
      "laptop price: None\n",
      "laptop: {'brand': 'Asus', 'model': 'Zenbook', 'year': 2018, 'color': 'silver'}\n",
      "laptop keys: dict_keys(['brand', 'model', 'year', 'color'])\n",
      "laptop values: dict_values(['Asus', 'Zenbook', 2018, 'silver'])\n",
      "laptop: {'brand': 'Asus', 'model': 'Zenbook', 'year': 2018, 'color': 'silver', 'price': 1500}\n"
     ]
    }
   ],
   "source": [
    "laptop = {\"brand\": \"Asus\", \"model\": \"Zenbook\", \"year\": 2018}\n",
    "\n",
    "print(\"laptop:\", laptop)\n",
    "\n",
    "# Access and get items\n",
    "print(\"laptop brand:\", laptop[\"brand\"])\n",
    "print(\"laptop brand:\", laptop.get(\"brand\"))\n",
    "print(\"laptop price:\", laptop.get(\"price\"))\n",
    "\n",
    "# Adding items\n",
    "laptop[\"color\"] = \"silver\"\n",
    "print(\"laptop:\", laptop)\n",
    "\n",
    "# Keys and values\n",
    "print(\"laptop keys:\", laptop.keys())\n",
    "print(\"laptop values:\", laptop.values())\n",
    "\n",
    "# If the value does not exist, then add it\n",
    "if \"price\" not in laptop:\n",
    "    laptop[\"price\"] = 1500\n",
    "\n",
    "print(\"laptop:\", laptop)"
   ]
  },
  {
   "cell_type": "markdown",
   "metadata": {},
   "source": [
    "### 🔖 Default Dictionary\n",
    "\n",
    "🔹 It provides a default value for a key that does not exist, which simplifies the process of handling missing keys. This avoids the need for checking if a key exists and initializing it if it doesn't."
   ]
  },
  {
   "cell_type": "code",
   "execution_count": 15,
   "metadata": {},
   "outputs": [
    {
     "name": "stdout",
     "output_type": "stream",
     "text": [
      "defaultdict(<class 'int'>, {'apple': 3, 'banana': 2, 'orange': 1})\n"
     ]
    }
   ],
   "source": [
    "from collections import defaultdict\n",
    "\n",
    "# Create a defaultdict with default type of list\n",
    "word_count = defaultdict(int)\n",
    "\n",
    "# List of words\n",
    "words = [\"apple\", \"banana\", \"apple\", \"orange\", \"banana\", \"apple\"]\n",
    "\n",
    "# Count the occurrences of each word\n",
    "for word in words:\n",
    "    word_count[word] += 1\n",
    "\n",
    "# Print the word count\n",
    "print(word_count)"
   ]
  },
  {
   "cell_type": "markdown",
   "metadata": {},
   "source": [
    "### 🔖 Dictionary Comprehension\n",
    "\n",
    "🔹 It is a concise way to create dictionaries. It is similar to list comprehension, but it creates dictionaries instead of lists.\n",
    "\n",
    "**Syntax**:\n",
    "\n",
    "```python\n",
    "{key: value for key, value in iterable}\n",
    "```"
   ]
  },
  {
   "cell_type": "code",
   "execution_count": 16,
   "metadata": {},
   "outputs": [
    {
     "name": "stdout",
     "output_type": "stream",
     "text": [
      "cars: {'a': 'Audi', 'b': 'BMW', 'c': 'Chevrolet'}\n",
      "carDict: {'a': 'Audi', 'b': 'BMW', 'c': 'Chevrolet'}\n",
      "cars: {'a': 'Audi', 'b': 'BMW', 'c': 'Chevrolet'}\n",
      "dict_items([('a', 'Audi'), ('b', 'BMW'), ('c', 'Chevrolet')])\n",
      "carList: [('a', 'Audi'), ('b', 'BMW'), ('c', 'Chevrolet')]\n",
      "newItems: [{'letter': 'a', 'car': 'Audi'}, {'letter': 'b', 'car': 'BMW'}, {'letter': 'c', 'car': 'Chevrolet'}]\n"
     ]
    }
   ],
   "source": [
    "carList = [(\"a\", \"Audi\"), (\"b\", \"BMW\"), (\"c\", \"Chevrolet\")]\n",
    "\n",
    "# Add to a dictionary using a loop\n",
    "cars = {car[0]: car[1] for car in carList}\n",
    "print(\"cars:\", cars)\n",
    "\n",
    "# Convert a list of tuples to a dictionary\n",
    "carDict = dict(carList)\n",
    "print(\"carDict:\", carDict)\n",
    "\n",
    "# Add to a dictionary using key, value pairs with a loop\n",
    "cars = {key: value for key, value in carList}\n",
    "print(\"cars:\", cars)\n",
    "\n",
    "# Print the items of a dictionary\n",
    "print(cars.items())\n",
    "\n",
    "# Add to list\n",
    "carList = list(cars.items())\n",
    "print(\"carList:\", carList)\n",
    "\n",
    "# Convert a dictionary to a list of dictionaries\n",
    "newItems = [{\"letter\": key, \"car\": value} for key, value in cars.items()]\n",
    "print(\"newItems:\", newItems)"
   ]
  }
 ],
 "metadata": {
  "kernelspec": {
   "display_name": ".venv (3.13.5)",
   "language": "python",
   "name": "python3"
  },
  "language_info": {
   "codemirror_mode": {
    "name": "ipython",
    "version": 3
   },
   "file_extension": ".py",
   "mimetype": "text/x-python",
   "name": "python",
   "nbconvert_exporter": "python",
   "pygments_lexer": "ipython3",
   "version": "3.13.5"
  }
 },
 "nbformat": 4,
 "nbformat_minor": 2
}
