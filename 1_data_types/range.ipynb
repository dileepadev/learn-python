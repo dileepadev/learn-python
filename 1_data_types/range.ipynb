{
 "cells": [
  {
   "cell_type": "markdown",
   "metadata": {},
   "source": [
    "### 🔖 Range\n",
    "\n",
    "🔹 Given a list of integers, return the range of the list\n",
    "\n",
    "**_Syntax:_**\n",
    "\n",
    "```python\n",
    "variable = range(list)\n",
    "```"
   ]
  },
  {
   "cell_type": "code",
   "execution_count": 2,
   "metadata": {},
   "outputs": [
    {
     "name": "stdout",
     "output_type": "stream",
     "text": [
      "1\n",
      "2\n",
      "3\n",
      "4\n",
      "The range is:  range(1, 5)\n"
     ]
    }
   ],
   "source": [
    "myRange = range(1, 5)\n",
    "for i in myRange:\n",
    "    print(i)\n",
    "print(\"The range is: \", myRange)"
   ]
  }
 ],
 "metadata": {
  "kernelspec": {
   "display_name": ".venv (3.13.5)",
   "language": "python",
   "name": "python3"
  },
  "language_info": {
   "codemirror_mode": {
    "name": "ipython",
    "version": 3
   },
   "file_extension": ".py",
   "mimetype": "text/x-python",
   "name": "python",
   "nbconvert_exporter": "python",
   "pygments_lexer": "ipython3",
   "version": "3.13.5"
  }
 },
 "nbformat": 4,
 "nbformat_minor": 2
}
