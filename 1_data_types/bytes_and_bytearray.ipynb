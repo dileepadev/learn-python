{
 "cells": [
  {
   "cell_type": "markdown",
   "metadata": {},
   "source": [
    "### 🔖 Bytes\n",
    "\n",
    "🔹 Immutable sequences of bytes (8-bit values). They are used to handle binary data.\n",
    "\n",
    "**_Syntax:_**\n",
    "\n",
    "```python\n",
    "b = b'value'\n",
    "```"
   ]
  },
  {
   "cell_type": "code",
   "execution_count": 9,
   "metadata": {},
   "outputs": [
    {
     "name": "stdout",
     "output_type": "stream",
     "text": [
      "binary_data: b'\\x00\\x01\\x02\\x03'\n",
      "binary_data: <class 'bytes'>\n"
     ]
    }
   ],
   "source": [
    "binary_data = b\"\\x00\\x01\\x02\\x03\"\n",
    "\n",
    "print(\"binary_data:\", binary_data)\n",
    "print(\"binary_data:\", type(binary_data))"
   ]
  },
  {
   "cell_type": "markdown",
   "metadata": {},
   "source": [
    "### 🔖 Bytearray\n",
    "\n",
    "🔹 Mutable sequences of bytes (8-bit values). They are used to handle binary data.\n",
    "\n",
    "**_Syntax:_**\n",
    "\n",
    "```python\n",
    "b = bytearray(b'value')\n",
    "```"
   ]
  },
  {
   "cell_type": "code",
   "execution_count": 10,
   "metadata": {},
   "outputs": [
    {
     "name": "stdout",
     "output_type": "stream",
     "text": [
      "b is 2 & the bytes(b) is b'\\x00\\x00'\n",
      "c is 😂 & the bytes(c, 'utf-8') is b'\\xf0\\x9f\\x98\\x82'\n",
      "bytesOf_c is b'\\xf0\\x9f\\x98\\x82'\n",
      "Decoded bytesOf_c is 😂\n",
      "byteArrayOf_c is bytearray(b'\\xf0\\x9f\\x98\\x82')\n",
      "Decoded byteArray example is 🗂\n"
     ]
    }
   ],
   "source": [
    "a = 1\n",
    "b = 2\n",
    "c = \"😂\"\n",
    "bytesOf_c = bytes(c, \"utf-8\")\n",
    "byteArrayOf_c = bytearray(c, \"utf-8\")\n",
    "\n",
    "print(\"b is %d & the bytes(b) is\" % b, bytes(b))\n",
    "print(\"c is %s & the bytes(c, 'utf-8') is\" % c, bytes(c, \"utf-8\"))\n",
    "print(\"bytesOf_c is\", bytesOf_c)\n",
    "print(\"Decoded bytesOf_c is\", bytesOf_c.decode(\"utf-8\"))\n",
    "print(\"byteArrayOf_c is\", byteArrayOf_c)\n",
    "print(\"Decoded byteArray example is\", b\"\\xf0\\x9f\\x97\\x82\".decode(\"utf-8\"))"
   ]
  }
 ],
 "metadata": {
  "kernelspec": {
   "display_name": ".venv (3.13.5)",
   "language": "python",
   "name": "python3"
  },
  "language_info": {
   "codemirror_mode": {
    "name": "ipython",
    "version": 3
   },
   "file_extension": ".py",
   "mimetype": "text/x-python",
   "name": "python",
   "nbconvert_exporter": "python",
   "pygments_lexer": "ipython3",
   "version": "3.13.5"
  }
 },
 "nbformat": 4,
 "nbformat_minor": 2
}
