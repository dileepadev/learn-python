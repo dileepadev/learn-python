{
 "cells": [
  {
   "cell_type": "markdown",
   "metadata": {},
   "source": [
    "### 🔖 Integer\n",
    "\n",
    "🔹 Whole numbers, positive or negative, without decimals.\n",
    "\n",
    "**Syntax:**\n",
    "\n",
    "```python\n",
    "variable = value\n",
    "```"
   ]
  },
  {
   "cell_type": "code",
   "execution_count": 6,
   "metadata": {},
   "outputs": [
    {
     "name": "stdout",
     "output_type": "stream",
     "text": [
      "x: 5\n",
      "x: <class 'int'>\n"
     ]
    }
   ],
   "source": [
    "x = 5\n",
    "y = -10\n",
    "\n",
    "print(\"x:\", x)\n",
    "print(\"x:\", type(x))"
   ]
  },
  {
   "cell_type": "markdown",
   "metadata": {},
   "source": [
    "### 🔖 Float\n",
    "\n",
    "🔹 Numbers with decimal points.\n",
    "\n",
    "**Syntax:**\n",
    "\n",
    "```python\n",
    "variable = value\n",
    "```"
   ]
  },
  {
   "cell_type": "code",
   "execution_count": 7,
   "metadata": {},
   "outputs": [
    {
     "name": "stdout",
     "output_type": "stream",
     "text": [
      "pi: 3.14\n",
      "pi: <class 'float'>\n"
     ]
    }
   ],
   "source": [
    "pi = 3.14\n",
    "gravity = 9.81\n",
    "\n",
    "print(\"pi:\", pi)\n",
    "print(\"pi:\", type(pi))"
   ]
  },
  {
   "cell_type": "markdown",
   "metadata": {},
   "source": [
    "### 🔖 Integer and Float"
   ]
  },
  {
   "cell_type": "code",
   "execution_count": 8,
   "metadata": {},
   "outputs": [
    {
     "name": "stdout",
     "output_type": "stream",
     "text": [
      "int of y: 23\n",
      "float of x: 12.0\n",
      "float of x+y: 35.870000000000005\n",
      "int of s: 123\n",
      "round of y: 24\n",
      "round of y to 1 decimal: 23.9\n",
      "round of x+y: 36\n"
     ]
    }
   ],
   "source": [
    "x = 12\n",
    "y = 23.87\n",
    "\n",
    "# Floats and integers can be converted to each other\n",
    "print(\"int of y:\", int(y))\n",
    "print(\"float of x:\", float(x))\n",
    "print(\"float of x+y:\", x + y)\n",
    "\n",
    "# Strings can be converted to numbers\n",
    "s = \"123\"\n",
    "print(\"int of s:\", int(s))\n",
    "\n",
    "# Round a float to an integer\n",
    "print(\"round of y:\", round(y))\n",
    "print(\"round of y to 1 decimal:\", round(y, 1))\n",
    "print(\"round of x+y:\", round(x + y))"
   ]
  },
  {
   "cell_type": "markdown",
   "metadata": {},
   "source": [
    "### 🔖 Convert to Number System"
   ]
  },
  {
   "cell_type": "code",
   "execution_count": 9,
   "metadata": {},
   "outputs": [
    {
     "name": "stdout",
     "output_type": "stream",
     "text": [
      "String 100 to int: 100\n",
      "Binary 1010 to decimal: 10\n",
      "Octal 12 to decimal: 10\n",
      "Decimal 10 to binary: 0b1010\n",
      "Hexadecimal 0x1A to decimal: 26\n"
     ]
    }
   ],
   "source": [
    "print(\"String 100 to int:\", int(\"100\"))\n",
    "print(\"Binary 1010 to decimal:\", int(\"1010\", 2))\n",
    "print(\"Octal 12 to decimal:\", int(\"12\", 8))\n",
    "print(\"Decimal 10 to binary:\", bin(10))\n",
    "print(\"Hexadecimal 0x1A to decimal:\", int(\"0x1A\", 16))"
   ]
  },
  {
   "cell_type": "markdown",
   "metadata": {},
   "source": [
    "### 🔖 Decimal"
   ]
  },
  {
   "cell_type": "code",
   "execution_count": 10,
   "metadata": {},
   "outputs": [
    {
     "name": "stdout",
     "output_type": "stream",
     "text": [
      "getcontext(): Context(prec=28, rounding=ROUND_HALF_EVEN, Emin=-999999, Emax=999999, capitals=1, clamp=0, flags=[], traps=[InvalidOperation, DivisionByZero, Overflow])\n",
      "getcontext().prec: 28\n",
      "getcontext().prec: 4\n",
      "Decimal of x+y: 35.870000000000005\n"
     ]
    }
   ],
   "source": [
    "from decimal import Decimal, getcontext\n",
    "\n",
    "print(\"getcontext():\", getcontext())\n",
    "print(\"getcontext().prec:\", getcontext().prec)\n",
    "getcontext().prec = 4\n",
    "print(\"getcontext().prec:\", getcontext().prec)\n",
    "print(\"Decimal of x+y:\", Decimal(str(x + y)))"
   ]
  }
 ],
 "metadata": {
  "kernelspec": {
   "display_name": ".venv (3.13.5)",
   "language": "python",
   "name": "python3"
  },
  "language_info": {
   "codemirror_mode": {
    "name": "ipython",
    "version": 3
   },
   "file_extension": ".py",
   "mimetype": "text/x-python",
   "name": "python",
   "nbconvert_exporter": "python",
   "pygments_lexer": "ipython3",
   "version": "3.13.5"
  }
 },
 "nbformat": 4,
 "nbformat_minor": 2
}
