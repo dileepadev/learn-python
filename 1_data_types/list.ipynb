{
 "cells": [
  {
   "cell_type": "markdown",
   "metadata": {},
   "source": [
    "### 🔖 List\n",
    "\n",
    "🔹 Ordered, mutable collection of items, which can be of different types and allows duplicate elements.\n",
    "\n",
    "**_Syntax:_**\n",
    "\n",
    "```python\n",
    "list_name = [item1, item2, item3, ...]\n",
    "```"
   ]
  },
  {
   "cell_type": "code",
   "execution_count": 8,
   "metadata": {},
   "outputs": [
    {
     "name": "stdout",
     "output_type": "stream",
     "text": [
      "numbers: [1, 2, 3, 4, 5]\n",
      "numbers: <class 'list'>\n"
     ]
    }
   ],
   "source": [
    "numbers = [1, 2, 3, 4, 5]\n",
    "fruits = [\"apple\", \"banana\", \"orange\"]\n",
    "\n",
    "print(\"numbers:\", numbers)\n",
    "print(\"numbers:\", type(numbers))"
   ]
  },
  {
   "cell_type": "markdown",
   "metadata": {},
   "source": [
    "### 🔖 Lists Slices"
   ]
  },
  {
   "cell_type": "code",
   "execution_count": 9,
   "metadata": {},
   "outputs": [
    {
     "name": "stdout",
     "output_type": "stream",
     "text": [
      "years: [2010, 2011, 2012, 2013, 2014, 2015]\n",
      "years[0]: 2010\n",
      "years[1:3]: [2011, 2012]\n",
      "years[:3]: [2010, 2011, 2012]\n",
      "years[3:]: [2013, 2014, 2015]\n",
      "years[-1]: 2015\n",
      "years[-3:]: [2013, 2014, 2015]\n",
      "years[:-2]: [2010, 2011, 2012, 2013]\n",
      "years[0:5:2]: [2010, 2012, 2014]\n",
      "years[::2]: [2010, 2012, 2014]\n",
      "years[::-1]: [2015, 2014, 2013, 2012, 2011, 2010]\n"
     ]
    }
   ],
   "source": [
    "# Define a list of years\n",
    "years = [2010, 2011, 2012, 2013, 2014, 2015]\n",
    "\n",
    "# Print the entire list\n",
    "print(\"years:\", years)\n",
    "\n",
    "# Access the 1st element (index 0)\n",
    "print(\"years[0]:\", years[0])\n",
    "\n",
    "# Access a slice from index 1 up to (but not including) index 3\n",
    "print(\"years[1:3]:\", years[1:3])\n",
    "\n",
    "# Access the first 3 elements\n",
    "print(\"years[:3]:\", years[:3])\n",
    "\n",
    "# Access all elements from index 3 to the end\n",
    "print(\"years[3:]:\", years[3:])\n",
    "\n",
    "# Access the last element using a negative index\n",
    "print(\"years[-1]:\", years[-1])\n",
    "\n",
    "# Access the last 3 elements\n",
    "print(\"years[-3:]:\", years[-3:])\n",
    "\n",
    "# Access all elements except the last 2\n",
    "print(\"years[:-2]:\", years[:-2])\n",
    "\n",
    "# Access elements from index 0 to 4, skipping every 2nd element\n",
    "print(\"years[0:5:2]:\", years[0:5:2])\n",
    "\n",
    "# Access every 2nd element from the list (entire list with step 2)\n",
    "print(\"years[::2]:\", years[::2])\n",
    "\n",
    "# Access all elements in reverse order\n",
    "print(\"years[::-1]:\", years[::-1])"
   ]
  },
  {
   "cell_type": "markdown",
   "metadata": {},
   "source": [
    "### 🔖 List from Range"
   ]
  },
  {
   "cell_type": "code",
   "execution_count": 10,
   "metadata": {},
   "outputs": [
    {
     "name": "stdout",
     "output_type": "stream",
     "text": [
      "rangeList: [0, 1, 2, 3, 4, 5, 6, 7, 8, 9]\n"
     ]
    }
   ],
   "source": [
    "rangeList = list(range(10))\n",
    "print(\"rangeList:\", rangeList)"
   ]
  },
  {
   "cell_type": "markdown",
   "metadata": {},
   "source": [
    "### 🔖 Add to List"
   ]
  },
  {
   "cell_type": "code",
   "execution_count": 11,
   "metadata": {},
   "outputs": [
    {
     "name": "stdout",
     "output_type": "stream",
     "text": [
      "ages before changes: [26, 27, 28, 29, 30]\n",
      "ages after changes: [25, 26, 27, 28, 29, 30, 31, 32, 33, 34, 35]\n"
     ]
    }
   ],
   "source": [
    "ages = [26, 27, 28, 29, 30]\n",
    "print(\"ages before changes:\", ages)\n",
    "ages.append(31)\n",
    "ages.extend([32, 33, 34, 35])\n",
    "ages.insert(0, 25)\n",
    "print(\"ages after changes:\", ages)"
   ]
  },
  {
   "cell_type": "markdown",
   "metadata": {},
   "source": [
    "### 🔖 Remove from List"
   ]
  },
  {
   "cell_type": "code",
   "execution_count": 12,
   "metadata": {},
   "outputs": [
    {
     "name": "stdout",
     "output_type": "stream",
     "text": [
      "ages before changes: [25, 26, 27, 28, 29, 30, 31, 32, 33, 34, 35]\n",
      "ages after changes: [26, 27, 28, 29, 30, 31, 32, 33, 34, 35]\n",
      "ages after pop(): [26, 27, 28, 29, 30, 31, 32, 33, 34]\n"
     ]
    }
   ],
   "source": [
    "ages = [25, 26, 27, 28, 29, 30, 31, 32, 33, 34, 35]\n",
    "print(\"ages before changes:\", ages)\n",
    "ages.remove(25)\n",
    "print(\"ages after changes:\", ages)\n",
    "\n",
    "# pop() to remove the last element\n",
    "ages.pop()\n",
    "print(\"ages after pop():\", ages)"
   ]
  },
  {
   "cell_type": "markdown",
   "metadata": {},
   "source": [
    "### 🔖 Create a Copy of a List"
   ]
  },
  {
   "cell_type": "code",
   "execution_count": 13,
   "metadata": {},
   "outputs": [
    {
     "name": "stdout",
     "output_type": "stream",
     "text": [
      "numbers[] before changes: [1, 2, 3, 4, 5]  | len(numbers): 5\n",
      "numbersCopy[]: [1, 2, 3, 4, 5]  | len(numbersCopy): 5\n",
      "numbers[] after clear(): []  | len(numbers): 0\n",
      "numbersCopy[]: [1, 2, 3, 4, 5]  | len(numbersCopy): 5\n"
     ]
    }
   ],
   "source": [
    "numbers = [1, 2, 3, 4, 5]\n",
    "print(\"numbers[] before changes:\", numbers, \" | len(numbers):\", len(numbers))\n",
    "numbersCopy = numbers.copy()\n",
    "print(\"numbersCopy[]:\", numbersCopy, \" | len(numbersCopy):\", len(numbersCopy))\n",
    "\n",
    "numbers.clear()\n",
    "print(\"numbers[] after clear():\", numbers, \" | len(numbers):\", len(numbers))\n",
    "print(\"numbersCopy[]:\", numbersCopy, \" | len(numbersCopy):\", len(numbersCopy))"
   ]
  },
  {
   "cell_type": "markdown",
   "metadata": {},
   "source": [
    "### 🔖 List Comprehension\n",
    "\n",
    "🔹 List comprehension is used to create a new list by applying an expression to each item in an iterable. It is a concise way to create lists.\n",
    "\n",
    "**Syntax:**\n",
    "\n",
    "```python\n",
    "[expression for item in iterable if condition]\n",
    "```"
   ]
  },
  {
   "cell_type": "code",
   "execution_count": 14,
   "metadata": {},
   "outputs": [
    {
     "name": "stdout",
     "output_type": "stream",
     "text": [
      "squaredValues[]: [1, 4, 9, 16, 25]\n",
      "evenValues[]: [2, 4]\n",
      "squaredValues[]: [1, 4, 9, 16, 25]\n",
      "['this', 'is', 'good', 'i', 'like', 'it']\n",
      "flattenedMatrix[]: [1, 2, 3, 4, 5, 6, 7, 8, 9]\n"
     ]
    }
   ],
   "source": [
    "values = [1, 2, 3, 4, 5]\n",
    "\n",
    "# list comprehension\n",
    "squaredValues = [value * value for value in values]\n",
    "print(\"squaredValues[]:\", squaredValues)\n",
    "\n",
    "# list comprehension with condition\n",
    "evenValues = [value for value in values if value % 2 == 0]\n",
    "print(\"evenValues[]:\", evenValues)\n",
    "\n",
    "\n",
    "# list comprehension with function\n",
    "def square(value):\n",
    "    return value * value\n",
    "\n",
    "\n",
    "squaredValues = [square(value) for value in values]\n",
    "print(\"squaredValues[]:\", squaredValues)\n",
    "\n",
    "# list comprehension for filtering\n",
    "message = \"This is good. I like it.\"\n",
    "\n",
    "\n",
    "def filter(word):\n",
    "    return word.replace(\".\", \"\").lower()\n",
    "\n",
    "\n",
    "print([filter(word) for word in message.split()])\n",
    "\n",
    "# nested list comprehension\n",
    "matrix = [[1, 2, 3], [4, 5, 6], [7, 8, 9]]\n",
    "flattenedMatrix = [value for row in matrix for value in row]\n",
    "print(\"flattenedMatrix[]:\", flattenedMatrix)"
   ]
  }
 ],
 "metadata": {
  "kernelspec": {
   "display_name": ".venv (3.13.5)",
   "language": "python",
   "name": "python3"
  },
  "language_info": {
   "codemirror_mode": {
    "name": "ipython",
    "version": 3
   },
   "file_extension": ".py",
   "mimetype": "text/x-python",
   "name": "python",
   "nbconvert_exporter": "python",
   "pygments_lexer": "ipython3",
   "version": "3.13.5"
  }
 },
 "nbformat": 4,
 "nbformat_minor": 2
}
